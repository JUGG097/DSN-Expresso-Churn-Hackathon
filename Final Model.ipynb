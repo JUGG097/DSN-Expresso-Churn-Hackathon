{
 "cells": [
  {
   "cell_type": "code",
   "execution_count": 1,
   "metadata": {},
   "outputs": [],
   "source": [
    "import pandas as pd\n",
    "import numpy as np\n"
   ]
  },
  {
   "cell_type": "code",
   "execution_count": 2,
   "metadata": {},
   "outputs": [],
   "source": [
    "train = pd.read_csv(\"../data/cleaned_train_1.csv\")\n",
    "test = pd.read_csv(\"../data/cleaned_test_1.csv\")"
   ]
  },
  {
   "cell_type": "code",
   "execution_count": 3,
   "metadata": {},
   "outputs": [],
   "source": [
    "X = train.drop([\"Unnamed: 0\", \"user_id\", \"MRG\", \"CHURN\"], axis =1)\n",
    "y = train[\"CHURN\"]\n",
    "\n",
    "X_test = test.drop([\"Unnamed: 0\", \"user_id\", \"MRG\"], axis = 1)"
   ]
  },
  {
   "cell_type": "markdown",
   "metadata": {},
   "source": [
    "## SPLITING DATA INTO TRAIN AND VALIDATION SETS"
   ]
  },
  {
   "cell_type": "code",
   "execution_count": 4,
   "metadata": {},
   "outputs": [],
   "source": [
    "from sklearn.model_selection import train_test_split, KFold, StratifiedKFold\n",
    "\n",
    "X_train, X_val, y_train, y_val = train_test_split(X, y, test_size = 0.2, stratify = y, random_state = 0)"
   ]
  },
  {
   "cell_type": "markdown",
   "metadata": {},
   "source": [
    "### HELPER FUNCTIONS"
   ]
  },
  {
   "cell_type": "code",
   "execution_count": 9,
   "metadata": {},
   "outputs": [],
   "source": [
    "from catboost import CatBoostClassifier\n",
    "import matplotlib.pyplot as plt\n",
    "import seaborn as sns\n",
    "\n",
    "## Evaluates the model with our validation set and outputs the log loss score\n",
    "def evaluateModel(model):\n",
    "    #model = XGBClassifier(n_estimator = est, learning_rate = lr, max_depth = md)\n",
    "    model.fit(X_train, y_train, \n",
    "              eval_set=[(X_val, y_val)],\n",
    "              \n",
    "              early_stopping_rounds = 100,\n",
    "              verbose = 50\n",
    "             )\n",
    "\n",
    "## Trains the model on different subset of the dataset and use each to make a prediction\n",
    "## The predictions across this subset of  the dataset are then averaged\n",
    "def kfoldPrediction(model, file_name, splits):\n",
    "    kf = StratifiedKFold(n_splits=splits,shuffle=True)\n",
    "    #pipe = Pipeline([(\"scaler\", StandardScaler()), (\"regressor\", model)])\n",
    "    prediction = np.zeros(len(test))\n",
    "    for (train_index,test_index) in kf.split(X, y):\n",
    "        X_train, X_val =X.iloc[train_index],X.iloc[test_index]\n",
    "        y_train, y_val = y.iloc[train_index],y.iloc[test_index]\n",
    "\n",
    "        model.fit(X_train,y_train,\n",
    "                 eval_set=[(X_val, y_val)],\n",
    "              \n",
    "              early_stopping_rounds = 100,\n",
    "              verbose = 50)\n",
    "        prediction += (model.predict_proba(X_test))[:,1]\n",
    "    \n",
    "    prediction = prediction/splits\n",
    "    pd.DataFrame({\"user_id\": test[\"user_id\"], \"CHURN\": prediction}).to_csv(\"../submission-files/\"+file_name, index = False)\n",
    "    \n",
    "\n",
    "## Plots the train loss and validation loss\n",
    "def plot_graphs(train, val, metric):\n",
    "  plt.plot(train)\n",
    "  plt.plot(val)\n",
    "  plt.xlabel(\"Iterations\")\n",
    "  plt.ylabel(metric)\n",
    "  plt.legend([\"train\", \"val\"])\n",
    "  plt.show()"
   ]
  },
  {
   "cell_type": "code",
   "execution_count": 6,
   "metadata": {},
   "outputs": [
    {
     "name": "stdout",
     "output_type": "stream",
     "text": [
      "0:\tlearn: 0.5290649\ttest: 0.5291589\tbest: 0.5291589 (0)\ttotal: 1.12s\tremaining: 27m 53s\n",
      "50:\tlearn: 0.2525242\ttest: 0.2542646\tbest: 0.2542646 (50)\ttotal: 34.6s\tremaining: 16m 22s\n",
      "100:\tlearn: 0.2515753\ttest: 0.2538273\tbest: 0.2538273 (100)\ttotal: 1m 7s\tremaining: 15m 38s\n",
      "150:\tlearn: 0.2508293\ttest: 0.2536171\tbest: 0.2536170 (149)\ttotal: 1m 41s\tremaining: 15m 10s\n",
      "200:\tlearn: 0.2501819\ttest: 0.2535446\tbest: 0.2535393 (193)\ttotal: 2m 16s\tremaining: 14m 43s\n",
      "250:\tlearn: 0.2494787\ttest: 0.2534688\tbest: 0.2534688 (250)\ttotal: 2m 52s\tremaining: 14m 18s\n",
      "300:\tlearn: 0.2489876\ttest: 0.2534396\tbest: 0.2534170 (284)\ttotal: 3m 26s\tremaining: 13m 43s\n",
      "350:\tlearn: 0.2485312\ttest: 0.2534128\tbest: 0.2533997 (343)\ttotal: 3m 59s\tremaining: 13m 3s\n",
      "400:\tlearn: 0.2480624\ttest: 0.2534183\tbest: 0.2533997 (343)\ttotal: 4m 34s\tremaining: 12m 32s\n",
      "Stopped by overfitting detector  (100 iterations wait)\n",
      "\n",
      "bestTest = 0.2533997236\n",
      "bestIteration = 343\n",
      "\n",
      "Shrink model to first 344 iterations.\n"
     ]
    }
   ],
   "source": [
    "cat = CatBoostClassifier(cat_features = [\"REGION\", \"TENURE\", \"TOP_PACK\"], eval_metric='Logloss', n_estimators = 1500, learning_rate = 0.11)\n",
    "evaluateModel(cat)"
   ]
  },
  {
   "cell_type": "markdown",
   "metadata": {},
   "source": [
    "#### - Logloss of 0.2533997 on the validation set"
   ]
  },
  {
   "cell_type": "code",
   "execution_count": 7,
   "metadata": {},
   "outputs": [],
   "source": [
    "results = cat.evals_result_\n",
    "#results\n",
    "log_loss_train = results[\"learn\"][\"Logloss\"]\n",
    "#log_loss_train\n",
    "log_loss_val = results[\"validation\"][\"Logloss\"]"
   ]
  },
  {
   "cell_type": "code",
   "execution_count": 23,
   "metadata": {},
   "outputs": [],
   "source": [
    "cat = CatBoostClassifier(cat_features = [\"REGION\", \"TENURE\", \"TOP_PACK\"], eval_metric='Logloss', n_estimators = 1500, learning_rate = 0.11)\n",
    "#kfoldPrediction(cat, \"default-cat-1500-011-split-10.csv\", 10)\n",
    "#kfoldPrediction(cat, \"default-cat-150-011-split-5.csv\", 5)"
   ]
  },
  {
   "cell_type": "code",
   "execution_count": 8,
   "metadata": {},
   "outputs": [
    {
     "data": {
      "image/png": "[encoded data removed]",
      "text/plain": [
       "<Figure size 432x288 with 1 Axes>"
      ]
     },
     "metadata": {
      "needs_background": "light"
     },
     "output_type": "display_data"
    }
   ],
   "source": [
    "plot_graphs(log_loss_train, log_loss_val, \"LOG LOSS\")"
   ]
  },
  {
   "cell_type": "code",
   "execution_count": 14,
   "metadata": {},
   "outputs": [
    {
     "data": {
      "text/plain": [
       "<matplotlib.axes._subplots.AxesSubplot at 0x1ef0f65b4a8>"
      ]
     },
     "execution_count": 14,
     "metadata": {},
     "output_type": "execute_result"
    },
    {
     "data": {
      "image/png": "[encoded data removed]",
      "text/plain": [
       "<Figure size 720x360 with 1 Axes>"
      ]
     },
     "metadata": {
      "needs_background": "light"
     },
     "output_type": "display_data"
    }
   ],
   "source": [
    "f, ax = plt.subplots(figsize=(10, 5))\n",
    "plt.title(f\"FEATURE IMPORTANCE\")\n",
    "sns.barplot(x = cat.feature_importances_, y=cat.feature_names_)"
   ]
  },
  {
   "cell_type": "markdown",
   "metadata": {},
   "source": [
    "#### - The \"REGION\" and \"REGULARITY\" are the columns that affect our model most when it predicts who CHURN OR NO CHURN"
   ]
  },
  {
   "cell_type": "markdown",
   "metadata": {},
   "source": [
    "### MAKING PREDICTION AND SAVE TO A SUBMISSION FILE"
   ]
  },
  {
   "cell_type": "code",
   "execution_count": null,
   "metadata": {},
   "outputs": [],
   "source": [
    "cat = CatBoostClassifier(cat_features = [\"REGION\", \"TENURE\", \"TOP_PACK\"], eval_metric='Logloss', n_estimators = 1500, learning_rate = 0.11)\n",
    "kfoldPrediction(cat, \"default-cat-1500-011-split-10.csv\", 10)\n"
   ]
  },
  {
   "cell_type": "markdown",
   "metadata": {},
   "source": [
    "#### - Gave a score of 0.24716 on the Private LB"
   ]
  },
  {
   "cell_type": "code",
   "execution_count": null,
   "metadata": {},
   "outputs": [],
   "source": []
  }
 ],
 "metadata": {
  "kernelspec": {
   "display_name": "Python 3",
   "language": "python",
   "name": "python3"
  },
  "language_info": {
   "codemirror_mode": {
    "name": "ipython",
    "version": 3
   },
   "file_extension": ".py",
   "mimetype": "text/x-python",
   "name": "python",
   "nbconvert_exporter": "python",
   "pygments_lexer": "ipython3",
   "version": "3.6.9"
  }
 },
 "nbformat": 4,
 "nbformat_minor": 4
}
