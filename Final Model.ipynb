{
 "cells": [
  {
   "cell_type": "code",
   "execution_count": 1,
   "metadata": {},
   "outputs": [],
   "source": [
    "import pandas as pd\n",
    "import numpy as np"
   ]
  },
  {
   "cell_type": "code",
   "execution_count": 2,
   "metadata": {},
   "outputs": [],
   "source": [
    "train = pd.read_csv(\"../data/cleaned_train_1.csv\")\n",
    "test = pd.read_csv(\"../data/cleaned_test_1.csv\")"
   ]
  },
  {
   "cell_type": "code",
   "execution_count": 3,
   "metadata": {},
   "outputs": [],
   "source": [
    "X = train.drop([\"Unnamed: 0\", \"user_id\", \"MRG\", \"CHURN\"], axis =1)\n",
    "y = train[\"CHURN\"]\n",
    "\n",
    "X_test = test.drop([\"Unnamed: 0\", \"user_id\", \"MRG\"], axis = 1)"
   ]
  },
  {
   "cell_type": "markdown",
   "metadata": {},
   "source": [
    "## SPLITING DATA INTO TRAIN AND VALIDATION SETS"
   ]
  },
  {
   "cell_type": "code",
   "execution_count": 5,
   "metadata": {},
   "outputs": [],
   "source": [
    "from sklearn.model_selection import train_test_split, KFold, StratifiedKFold\n",
    "\n",
    "X_train, X_val, y_train, y_val = train_test_split(X, y, test_size = 0.2, stratify = y, random_state = 0)"
   ]
  },
  {
   "cell_type": "code",
   "execution_count": 7,
   "metadata": {},
   "outputs": [],
   "source": [
    "from catboost import CatBoostClassifier\n",
    "import matplotlib.pyplot as plt\n",
    "\n",
    "def evaluateModel(model):\n",
    "    #model = XGBClassifier(n_estimator = est, learning_rate = lr, max_depth = md)\n",
    "    model.fit(X_train, y_train, \n",
    "              eval_set=[(X_val, y_val)],\n",
    "              \n",
    "              early_stopping_rounds = 100,\n",
    "              verbose = 50\n",
    "             )\n",
    "\n",
    "def kfoldPrediction(model, file_name, splits):\n",
    "    kf = StratifiedKFold(n_splits=splits,shuffle=True)\n",
    "    #pipe = Pipeline([(\"scaler\", StandardScaler()), (\"regressor\", model)])\n",
    "    prediction = np.zeros(len(test))\n",
    "    for (train_index,test_index) in kf.split(X, y):\n",
    "        X_train, X_val =X.iloc[train_index],X.iloc[test_index]\n",
    "        y_train, y_val = y.iloc[train_index],y.iloc[test_index]\n",
    "\n",
    "        model.fit(X_train,y_train,\n",
    "                 eval_set=[(X_val, y_val)],\n",
    "              \n",
    "              early_stopping_rounds = 100,\n",
    "              verbose = 50)\n",
    "        prediction += (model.predict_proba(X_test))[:,1]\n",
    "    \n",
    "    prediction = prediction/splits\n",
    "    pd.DataFrame({\"user_id\": test[\"user_id\"], \"CHURN\": prediction}).to_csv(\"../submission-files/\"+file_name, index = False)\n",
    "    \n",
    "\n",
    "def plot_graphs(train, val, metric):\n",
    "  plt.plot(train)\n",
    "  plt.plot(val)\n",
    "  plt.xlabel(\"Iterations\")\n",
    "  plt.ylabel(metric)\n",
    "  plt.legend([\"train\", \"val\"])\n",
    "  plt.show()"
   ]
  },
  {
   "cell_type": "code",
   "execution_count": 12,
   "metadata": {},
   "outputs": [
    {
     "name": "stdout",
     "output_type": "stream",
     "text": [
      "Learning rate set to 0.142986\n",
      "0:\tlearn: 0.4912573\ttest: 0.4913715\tbest: 0.4913715 (0)\ttotal: 666ms\tremaining: 11m 5s\n",
      "50:\tlearn: 0.2521717\ttest: 0.2541411\tbest: 0.2541411 (50)\ttotal: 33.8s\tremaining: 10m 29s\n",
      "100:\tlearn: 0.2511767\ttest: 0.2537772\tbest: 0.2537772 (100)\ttotal: 1m 5s\tremaining: 9m 42s\n",
      "150:\tlearn: 0.2503748\ttest: 0.2535772\tbest: 0.2535757 (149)\ttotal: 1m 36s\tremaining: 9m 5s\n",
      "200:\tlearn: 0.2495780\ttest: 0.2535018\tbest: 0.2535008 (189)\ttotal: 2m 8s\tremaining: 8m 31s\n",
      "250:\tlearn: 0.2488844\ttest: 0.2535382\tbest: 0.2534936 (209)\ttotal: 2m 40s\tremaining: 7m 59s\n",
      "300:\tlearn: 0.2482191\ttest: 0.2535114\tbest: 0.2534936 (209)\ttotal: 3m 12s\tremaining: 7m 28s\n",
      "350:\tlearn: 0.2476276\ttest: 0.2534640\tbest: 0.2534480 (334)\ttotal: 3m 46s\tremaining: 6m 57s\n",
      "400:\tlearn: 0.2470801\ttest: 0.2535313\tbest: 0.2534480 (334)\ttotal: 4m 18s\tremaining: 6m 25s\n",
      "Stopped by overfitting detector  (100 iterations wait)\n",
      "\n",
      "bestTest = 0.2534480246\n",
      "bestIteration = 334\n",
      "\n",
      "Shrink model to first 335 iterations.\n"
     ]
    }
   ],
   "source": [
    "cat = CatBoostClassifier(cat_features = [\"REGION\", \"TENURE\", \"TOP_PACK\"], eval_metric='Logloss')\n",
    "evaluateModel(cat)"
   ]
  },
  {
   "cell_type": "code",
   "execution_count": 15,
   "metadata": {},
   "outputs": [],
   "source": [
    "results = cat.evals_result_\n",
    "#results\n",
    "log_loss_train = results[\"learn\"][\"Logloss\"]\n",
    "#log_loss_train\n",
    "log_loss_val = results[\"validation\"][\"Logloss\"]"
   ]
  },
  {
   "cell_type": "code",
   "execution_count": 16,
   "metadata": {},
   "outputs": [
    {
     "data": {
      "image/png": "[encoded data removed]",
      "text/plain": [
       "<Figure size 432x288 with 1 Axes>"
      ]
     },
     "metadata": {
      "needs_background": "light"
     },
     "output_type": "display_data"
    }
   ],
   "source": [
    "plot_graphs(log_loss_train, log_loss_val, \"LOG LOSS\")"
   ]
  },
  {
   "cell_type": "code",
   "execution_count": 24,
   "metadata": {},
   "outputs": [],
   "source": [
    "#kfoldPrediction(cat, \"default-cat-split-10.csv\", 10)"
   ]
  },
  {
   "cell_type": "code",
   "execution_count": 10,
   "metadata": {},
   "outputs": [
    {
     "name": "stdout",
     "output_type": "stream",
     "text": [
      "0:\tlearn: 0.5290649\ttest: 0.5291589\tbest: 0.5291589 (0)\ttotal: 791ms\tremaining: 19m 45s\n",
      "50:\tlearn: 0.2525242\ttest: 0.2542646\tbest: 0.2542646 (50)\ttotal: 30.6s\tremaining: 14m 28s\n",
      "100:\tlearn: 0.2515753\ttest: 0.2538273\tbest: 0.2538273 (100)\ttotal: 59.8s\tremaining: 13m 48s\n",
      "150:\tlearn: 0.2508293\ttest: 0.2536171\tbest: 0.2536170 (149)\ttotal: 1m 31s\tremaining: 13m 35s\n",
      "200:\tlearn: 0.2501819\ttest: 0.2535446\tbest: 0.2535393 (193)\ttotal: 2m 3s\tremaining: 13m 16s\n",
      "250:\tlearn: 0.2494787\ttest: 0.2534688\tbest: 0.2534688 (250)\ttotal: 2m 34s\tremaining: 12m 48s\n",
      "300:\tlearn: 0.2489876\ttest: 0.2534396\tbest: 0.2534170 (284)\ttotal: 3m 5s\tremaining: 12m 19s\n",
      "350:\tlearn: 0.2485312\ttest: 0.2534128\tbest: 0.2533997 (343)\ttotal: 3m 34s\tremaining: 11m 43s\n",
      "400:\tlearn: 0.2480624\ttest: 0.2534183\tbest: 0.2533997 (343)\ttotal: 4m 4s\tremaining: 11m 11s\n",
      "Stopped by overfitting detector  (100 iterations wait)\n",
      "\n",
      "bestTest = 0.2533997236\n",
      "bestIteration = 343\n",
      "\n",
      "Shrink model to first 344 iterations.\n"
     ]
    }
   ],
   "source": [
    "cat = CatBoostClassifier(cat_features = [\"REGION\", \"TENURE\", \"TOP_PACK\"], eval_metric='Logloss', n_estimators = 1500, learning_rate = 0.11)\n",
    "evaluateModel(cat)"
   ]
  },
  {
   "cell_type": "code",
   "execution_count": 23,
   "metadata": {},
   "outputs": [],
   "source": [
    "cat = CatBoostClassifier(cat_features = [\"REGION\", \"TENURE\", \"TOP_PACK\"], eval_metric='Logloss', n_estimators = 1500, learning_rate = 0.11)\n",
    "#kfoldPrediction(cat, \"default-cat-1500-011-split-10.csv\", 10)\n",
    "#kfoldPrediction(cat, \"default-cat-150-011-split-5.csv\", 5)"
   ]
  },
  {
   "cell_type": "code",
   "execution_count": 13,
   "metadata": {},
   "outputs": [
    {
     "name": "stdout",
     "output_type": "stream",
     "text": [
      "0:\tlearn: 0.4838340\ttest: 0.4839522\tbest: 0.4839522 (0)\ttotal: 825ms\tremaining: 20m 37s\n",
      "50:\tlearn: 0.2522159\ttest: 0.2542266\tbest: 0.2542266 (50)\ttotal: 38.5s\tremaining: 18m 13s\n",
      "100:\tlearn: 0.2510986\ttest: 0.2537940\tbest: 0.2537940 (100)\ttotal: 1m 16s\tremaining: 17m 37s\n",
      "150:\tlearn: 0.2501899\ttest: 0.2536593\tbest: 0.2536337 (134)\ttotal: 1m 55s\tremaining: 17m 14s\n",
      "200:\tlearn: 0.2493575\ttest: 0.2535771\tbest: 0.2535715 (197)\ttotal: 2m 35s\tremaining: 16m 42s\n",
      "250:\tlearn: 0.2486577\ttest: 0.2536030\tbest: 0.2535467 (220)\ttotal: 3m 15s\tremaining: 16m 14s\n",
      "300:\tlearn: 0.2479530\ttest: 0.2537370\tbest: 0.2535467 (220)\ttotal: 3m 58s\tremaining: 15m 49s\n",
      "Stopped by overfitting detector  (100 iterations wait)\n",
      "\n",
      "bestTest = 0.253546746\n",
      "bestIteration = 220\n",
      "\n",
      "Shrink model to first 221 iterations.\n"
     ]
    }
   ],
   "source": [
    "cat = CatBoostClassifier(cat_features = [\"REGION\", \"TENURE\", \"TOP_PACK\"], eval_metric='Logloss', n_estimators = 1500, learning_rate = 0.15)\n",
    "evaluateModel(cat)"
   ]
  },
  {
   "cell_type": "code",
   "execution_count": 14,
   "metadata": {},
   "outputs": [
    {
     "data": {
      "text/plain": [
       "array([48.33711089,  0.91666214,  2.29889057,  1.65281142,  2.16396199,\n",
       "        1.67006657,  1.36033842,  4.36791205,  1.90537181,  1.66947188,\n",
       "        0.74567844,  0.46097165,  0.35340178, 30.72087347,  0.85245721,\n",
       "        0.52401972])"
      ]
     },
     "execution_count": 14,
     "metadata": {},
     "output_type": "execute_result"
    }
   ],
   "source": [
    "cat.feature_importances_"
   ]
  },
  {
   "cell_type": "code",
   "execution_count": 15,
   "metadata": {},
   "outputs": [
    {
     "data": {
      "text/plain": [
       "['REGION',\n",
       " 'TENURE',\n",
       " 'MONTANT',\n",
       " 'FREQUENCE_RECH',\n",
       " 'REVENUE',\n",
       " 'ARPU_SEGMENT',\n",
       " 'FREQUENCE',\n",
       " 'DATA_VOLUME',\n",
       " 'ON_NET',\n",
       " 'ORANGE',\n",
       " 'TIGO',\n",
       " 'ZONE1',\n",
       " 'ZONE2',\n",
       " 'REGULARITY',\n",
       " 'TOP_PACK',\n",
       " 'FREQ_TOP_PACK']"
      ]
     },
     "execution_count": 15,
     "metadata": {},
     "output_type": "execute_result"
    }
   ],
   "source": [
    "cat.feature_names_"
   ]
  },
  {
   "cell_type": "code",
   "execution_count": 16,
   "metadata": {},
   "outputs": [
    {
     "name": "stdout",
     "output_type": "stream",
     "text": [
      "Learning rate set to 0.142986\n",
      "0:\tlearn: 0.5124449\ttest: 0.5121766\tbest: 0.5121766 (0)\ttotal: 713ms\tremaining: 11m 52s\n",
      "50:\tlearn: 0.2539679\ttest: 0.2554407\tbest: 0.2554407 (50)\ttotal: 27.5s\tremaining: 8m 32s\n",
      "100:\tlearn: 0.2530778\ttest: 0.2546221\tbest: 0.2546221 (100)\ttotal: 56s\tremaining: 8m 18s\n",
      "150:\tlearn: 0.2526777\ttest: 0.2543881\tbest: 0.2543858 (149)\ttotal: 1m 22s\tremaining: 7m 44s\n",
      "200:\tlearn: 0.2523504\ttest: 0.2542106\tbest: 0.2542042 (199)\ttotal: 1m 49s\tremaining: 7m 16s\n",
      "250:\tlearn: 0.2521024\ttest: 0.2541168\tbest: 0.2541168 (250)\ttotal: 2m 15s\tremaining: 6m 45s\n",
      "300:\tlearn: 0.2519137\ttest: 0.2540212\tbest: 0.2540186 (299)\ttotal: 2m 42s\tremaining: 6m 17s\n",
      "350:\tlearn: 0.2517153\ttest: 0.2539417\tbest: 0.2539392 (347)\ttotal: 3m 9s\tremaining: 5m 49s\n",
      "400:\tlearn: 0.2515302\ttest: 0.2538453\tbest: 0.2538435 (396)\ttotal: 3m 36s\tremaining: 5m 23s\n",
      "450:\tlearn: 0.2513738\ttest: 0.2537904\tbest: 0.2537904 (450)\ttotal: 4m 3s\tremaining: 4m 56s\n",
      "500:\tlearn: 0.2512543\ttest: 0.2537765\tbest: 0.2537664 (470)\ttotal: 4m 29s\tremaining: 4m 28s\n",
      "550:\tlearn: 0.2511396\ttest: 0.2537860\tbest: 0.2537664 (470)\ttotal: 4m 56s\tremaining: 4m 1s\n",
      "Stopped by overfitting detector  (100 iterations wait)\n",
      "\n",
      "bestTest = 0.2537664272\n",
      "bestIteration = 470\n",
      "\n",
      "Shrink model to first 471 iterations.\n"
     ]
    }
   ],
   "source": [
    "cat = CatBoostClassifier(cat_features = [\"REGION\", \"TENURE\", \"TOP_PACK\"], eval_metric='Logloss', max_depth = 3)\n",
    "evaluateModel(cat)"
   ]
  },
  {
   "cell_type": "code",
   "execution_count": 22,
   "metadata": {},
   "outputs": [],
   "source": [
    "cat = CatBoostClassifier(cat_features = [\"REGION\", \"TENURE\", \"TOP_PACK\"], eval_metric='Logloss', max_depth = 3)\n",
    "#kfoldPrediction(cat, \"default-cat-md-3-split-10.csv\", 10)\n",
    "#kfoldPrediction(cat, \"default-cat-md-3-split-5.csv\", 5)"
   ]
  },
  {
   "cell_type": "code",
   "execution_count": 21,
   "metadata": {},
   "outputs": [],
   "source": [
    "cat = CatBoostClassifier(cat_features = [\"REGION\", \"TENURE\", \"TOP_PACK\"], eval_metric='Logloss', max_depth = 3, n_estimators = 1500)\n",
    "#kfoldPrediction(cat, \"default-cat-md-3-split-10.csv\", 10)\n",
    "#kfoldPrediction(cat, \"default-cat-1500-md-3-split-5.csv\", 5)"
   ]
  },
  {
   "cell_type": "code",
   "execution_count": 31,
   "metadata": {},
   "outputs": [
    {
     "name": "stdout",
     "output_type": "stream",
     "text": [
      "Learning rate set to 0.142986\n",
      "0:\tlearn: 0.5021519\ttest: 0.5024047\tbest: 0.5024047 (0)\ttotal: 2.1s\tremaining: 35m 3s\n",
      "50:\tlearn: 0.2520627\ttest: 0.2540124\tbest: 0.2540124 (50)\ttotal: 50.6s\tremaining: 15m 40s\n",
      "100:\tlearn: 0.2510747\ttest: 0.2536249\tbest: 0.2536249 (100)\ttotal: 1m 20s\tremaining: 11m 57s\n",
      "150:\tlearn: 0.2502199\ttest: 0.2535940\tbest: 0.2535726 (142)\ttotal: 1m 51s\tremaining: 10m 27s\n",
      "200:\tlearn: 0.2493785\ttest: 0.2535248\tbest: 0.2535111 (191)\ttotal: 2m 22s\tremaining: 9m 27s\n",
      "250:\tlearn: 0.2486355\ttest: 0.2535815\tbest: 0.2535111 (191)\ttotal: 2m 55s\tremaining: 8m 43s\n",
      "Stopped by overfitting detector  (100 iterations wait)\n",
      "\n",
      "bestTest = 0.2535110756\n",
      "bestIteration = 191\n",
      "\n",
      "Shrink model to first 192 iterations.\n"
     ]
    }
   ],
   "source": [
    "cat = CatBoostClassifier(cat_features = [\"REGION\", \"TENURE\", \"TOP_PACK\"], eval_metric='Logloss', bootstrap_type = \"MVS\")\n",
    "evaluateModel(cat)"
   ]
  },
  {
   "cell_type": "code",
   "execution_count": null,
   "metadata": {},
   "outputs": [],
   "source": []
  }
 ],
 "metadata": {
  "kernelspec": {
   "display_name": "Python 3",
   "language": "python",
   "name": "python3"
  },
  "language_info": {
   "codemirror_mode": {
    "name": "ipython",
    "version": 3
   },
   "file_extension": ".py",
   "mimetype": "text/x-python",
   "name": "python",
   "nbconvert_exporter": "python",
   "pygments_lexer": "ipython3",
   "version": "3.6.9"
  }
 },
 "nbformat": 4,
 "nbformat_minor": 4
}
